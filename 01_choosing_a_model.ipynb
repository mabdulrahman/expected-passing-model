{
 "cells": [
  {
   "cell_type": "code",
   "execution_count": 1,
   "metadata": {},
   "outputs": [],
   "source": [
    "# imports\n",
    "import pandas as pd \n",
    "import numpy as np\n",
    "import json\n",
    "import matplotlib.pyplot as plt\n",
    "\n",
    "from sklearn.linear_model import LogisticRegression\n",
    "from sklearn.model_selection import train_test_split\n",
    "from sklearn.model_selection import cross_val_score\n",
    "from sklearn.metrics import confusion_matrix\n",
    "from sklearn.preprocessing import OneHotEncoder\n",
    "from sklearn.compose import make_column_transformer\n",
    "from sklearn.pipeline import make_pipeline\n",
    "from sklearn.ensemble import RandomForestClassifier\n",
    "from sklearn import metrics"
   ]
  },
  {
   "cell_type": "markdown",
   "metadata": {},
   "source": [
    "# 1. Import The Data"
   ]
  },
  {
   "cell_type": "code",
   "execution_count": 2,
   "metadata": {},
   "outputs": [],
   "source": [
    "# function for getting event data from files\n",
    "def get_event(leagues, event_name):\n",
    "    # empty df\n",
    "    raw_data = pd.DataFrame()\n",
    "    \n",
    "    # loop over the leagues and append data to the df\n",
    "    for league in leagues:\n",
    "        path = '../data/Wyscout/events/events_{}'.format(league) + '.json'\n",
    "        with open(path, encoding='utf-8') as f:\n",
    "            temp = json.load(f)\n",
    "        temp_df = pd.DataFrame(temp)\n",
    "        raw_data = raw_data.append(temp_df)\n",
    "    \n",
    "    # subset the event and return\n",
    "    event_df = raw_data[raw_data['eventName'] == event_name]\n",
    "    return event_df"
   ]
  },
  {
   "cell_type": "code",
   "execution_count": 3,
   "metadata": {},
   "outputs": [],
   "source": [
    "# get passing data for the PL\n",
    "# leagues = ['England', 'France', 'Germany', 'Italy', 'Spain', 'European_Championship', 'World_Cup']\n",
    "leagues = ['England']\n",
    "df_pass = get_event(leagues, 'Pass')\n",
    "df_pass.reset_index(inplace=True, drop=True)"
   ]
  },
  {
   "cell_type": "markdown",
   "metadata": {},
   "source": [
    "# 2. A Very Simple Model"
   ]
  },
  {
   "cell_type": "markdown",
   "metadata": {},
   "source": [
    "First, we'll look at a very simple model using logistic regression. The model only takes in consideration the where the pass was taken from on the pitch."
   ]
  },
  {
   "cell_type": "code",
   "execution_count": 4,
   "metadata": {},
   "outputs": [],
   "source": [
    "simple_model = pd.DataFrame(columns=['x1', 'y1', 'label'])\n",
    "\n",
    "simple_model['label'] = df_pass['tags'].astype('str').str.contains('1801').astype(int) \n",
    "simple_model['x1'] = df_pass['positions'].str[0].str['x']\n",
    "simple_model['y1'] = df_pass['positions'].str[0].str['y']"
   ]
  },
  {
   "cell_type": "code",
   "execution_count": 5,
   "metadata": {},
   "outputs": [],
   "source": [
    "# split data into features 'X' and target labels 'y'\n",
    "features = ['x1', 'y1']\n",
    "X = simple_model[features]\n",
    "y = simple_model['label']"
   ]
  },
  {
   "cell_type": "code",
   "execution_count": 6,
   "metadata": {},
   "outputs": [
    {
     "name": "stdout",
     "output_type": "stream",
     "text": [
      "(328657, 2)\n",
      "(328657,)\n"
     ]
    }
   ],
   "source": [
    "print(X.shape)\n",
    "print(y.shape)"
   ]
  },
  {
   "cell_type": "code",
   "execution_count": 7,
   "metadata": {},
   "outputs": [],
   "source": [
    "# split the data into a training and test set\n",
    "from sklearn.model_selection import train_test_split\n",
    "X_train, X_test, y_train, y_test = train_test_split(X, y, test_size=0.2, random_state=42)"
   ]
  },
  {
   "cell_type": "markdown",
   "metadata": {},
   "source": [
    "# 2.1 Logistic Regression"
   ]
  },
  {
   "cell_type": "code",
   "execution_count": 8,
   "metadata": {},
   "outputs": [
    {
     "name": "stdout",
     "output_type": "stream",
     "text": [
      "[0.82489636 0.82489636 0.82489636 0.82489636 0.82489636 0.82492773\n",
      " 0.82492773 0.82492773 0.8248897  0.8248897 ]\n",
      "0.8249044405834427\n"
     ]
    }
   ],
   "source": [
    "# instantiate a logistic regression model\n",
    "logreg = LogisticRegression()\n",
    "\n",
    "# use 10-fold cv to evaluate the performance\n",
    "scores = cross_val_score(logreg, X_train, y_train, cv=10, scoring='accuracy')\n",
    "print(scores)\n",
    "print(scores.mean())"
   ]
  },
  {
   "cell_type": "code",
   "execution_count": 9,
   "metadata": {},
   "outputs": [
    {
     "data": {
      "text/plain": [
       "1    0.824904\n",
       "0    0.175096\n",
       "Name: label, dtype: float64"
      ]
     },
     "execution_count": 9,
     "metadata": {},
     "output_type": "execute_result"
    }
   ],
   "source": [
    "# calculating the null accuracy\n",
    "# i.e. the accuracy when the model only predicts the dominant class\n",
    "y_train.value_counts(normalize=True)"
   ]
  },
  {
   "cell_type": "markdown",
   "metadata": {},
   "source": [
    "Comparing our model accuracy with the null accuracy, we can see that our model always classifies the pass to be successful, which is not very surprising because our data is highly imbalanced. \n",
    "\n",
    "Let's look at the confusion matrix to confirm."
   ]
  },
  {
   "cell_type": "code",
   "execution_count": 10,
   "metadata": {},
   "outputs": [
    {
     "name": "stdout",
     "output_type": "stream",
     "text": [
      "[[     0  46037]\n",
      " [     0 216888]]\n"
     ]
    }
   ],
   "source": [
    "# fit the data and make predictions\n",
    "logreg.fit(X_train, y_train)\n",
    "y_pred_class = logreg.predict(X_train)\n",
    "\n",
    "# confusion matrix\n",
    "print(metrics.confusion_matrix(y_train, y_pred_class))"
   ]
  },
  {
   "cell_type": "markdown",
   "metadata": {},
   "source": [
    "Here we can clearly see it; the model hasn't classfied a single pass as inaccurate."
   ]
  },
  {
   "cell_type": "code",
   "execution_count": 11,
   "metadata": {},
   "outputs": [
    {
     "name": "stdout",
     "output_type": "stream",
     "text": [
      "Accuracy: 0.8249044404297804\n",
      "Recall: 1.0\n",
      "Precision: 0.8249044404297804\n"
     ]
    }
   ],
   "source": [
    "# other metrics\n",
    "print(\"Accuracy:\", metrics.accuracy_score(y_train, y_pred_class))\n",
    "print(\"Recall:\", metrics.recall_score(y_train, y_pred_class))\n",
    "print(\"Precision:\", metrics.precision_score(y_train, y_pred_class))"
   ]
  },
  {
   "cell_type": "markdown",
   "metadata": {},
   "source": [
    "Recall means when we pick the positive class, how often are we correct? The model always picks a positive class so recall = 1. \n",
    "\n",
    "Precision means when the actual class is positive, how often do we predict it correctly? Again because the model always picks the positive class it's the same as the accuracy."
   ]
  },
  {
   "cell_type": "markdown",
   "metadata": {},
   "source": [
    "Now let's look at the ROC curve to see how changing the threshold would affect our model."
   ]
  },
  {
   "cell_type": "code",
   "execution_count": 12,
   "metadata": {},
   "outputs": [
    {
     "data": {
      "image/png": "[encoded data removed]",
      "text/plain": [
       "<Figure size 432x288 with 1 Axes>"
      ]
     },
     "metadata": {
      "needs_background": "light"
     },
     "output_type": "display_data"
    }
   ],
   "source": [
    "y_pred_prob = logreg.predict_proba(X_train)[:, 1]\n",
    "fpr, tpr, thresholds = metrics.roc_curve(y_train, y_pred_prob)\n",
    "plt.plot(fpr, tpr)\n",
    "plt.xlim([0.0, 1.0])\n",
    "plt.ylim([0.0, 1.0])\n",
    "plt.title('ROC curve for simple passing model')\n",
    "plt.xlabel('False Positive Rate (1 - Specificity)')\n",
    "plt.ylabel('True Positive Rate (Sensitivity)')\n",
    "plt.grid(True)"
   ]
  },
  {
   "cell_type": "markdown",
   "metadata": {},
   "source": [
    "# 2.2 Random Forest "
   ]
  },
  {
   "cell_type": "markdown",
   "metadata": {},
   "source": [
    "Now let's try a random forest on our simple model to see how different it would be from the logistic regression."
   ]
  },
  {
   "cell_type": "code",
   "execution_count": 13,
   "metadata": {},
   "outputs": [
    {
     "name": "stdout",
     "output_type": "stream",
     "text": [
      "[0.82204389 0.82295668 0.82189176 0.82383144 0.82185373 0.82131447\n",
      " 0.82249353 0.82314012 0.82336832 0.8225696 ]\n",
      "0.822546354109645\n"
     ]
    }
   ],
   "source": [
    "# instantiate a logistic regression model\n",
    "clf = RandomForestClassifier(n_jobs=2, random_state=0)\n",
    "\n",
    "# use 10-fold cv to evaluate the performance\n",
    "scores = cross_val_score(clf, X_train, y_train, cv=10, scoring='accuracy')\n",
    "print(scores)\n",
    "print(scores.mean())"
   ]
  },
  {
   "cell_type": "code",
   "execution_count": 14,
   "metadata": {},
   "outputs": [
    {
     "name": "stdout",
     "output_type": "stream",
     "text": [
      "[[  4171  41866]\n",
      " [  2414 214474]]\n"
     ]
    }
   ],
   "source": [
    "# fit the data and make predictions\n",
    "clf.fit(X_train, y_train)\n",
    "y_pred_class = clf.predict(X_train)\n",
    "\n",
    "# confusion matrix\n",
    "print(metrics.confusion_matrix(y_train, y_pred_class))"
   ]
  },
  {
   "cell_type": "code",
   "execution_count": 15,
   "metadata": {},
   "outputs": [
    {
     "name": "stdout",
     "output_type": "stream",
     "text": [
      "Accuracy: 0.8315869544546924\n",
      "Recall: 0.9888698314337354\n",
      "Precision: 0.8366778497308263\n"
     ]
    }
   ],
   "source": [
    "# other metrics\n",
    "print(\"Accuracy:\", metrics.accuracy_score(y_train, y_pred_class))\n",
    "print(\"Recall:\", metrics.recall_score(y_train, y_pred_class))\n",
    "print(\"Precision:\", metrics.precision_score(y_train, y_pred_class))"
   ]
  },
  {
   "cell_type": "markdown",
   "metadata": {},
   "source": [
    "It's not just predicting accurate passes anymore. But it's clear we need to consider more features for our model."
   ]
  },
  {
   "cell_type": "markdown",
   "metadata": {},
   "source": [
    "# 3. Improved Model With More Features"
   ]
  },
  {
   "cell_type": "code",
   "execution_count": 16,
   "metadata": {},
   "outputs": [],
   "source": [
    "xp_model = pd.DataFrame()\n",
    "\n",
    "xp_model['label'] = df_pass['tags'].astype('str').str.contains('1801').astype(int) \n",
    "xp_model['x1'] = df_pass['positions'].str[0].str['x']\n",
    "xp_model['y1'] = df_pass['positions'].str[0].str['y']\n",
    "xp_model['x2'] = df_pass['positions'].str[1].str['x']\n",
    "xp_model['y2'] = df_pass['positions'].str[1].str['y']\n",
    "xp_model['pass_type'] = df_pass['subEventName']"
   ]
  },
  {
   "cell_type": "code",
   "execution_count": 17,
   "metadata": {},
   "outputs": [
    {
     "data": {
      "text/plain": [
       "label        0\n",
       "x1           0\n",
       "y1           0\n",
       "x2           0\n",
       "y2           0\n",
       "pass_type    0\n",
       "dtype: int64"
      ]
     },
     "execution_count": 17,
     "metadata": {},
     "output_type": "execute_result"
    }
   ],
   "source": [
    "# make sure there aren't any missing values\n",
    "xp_model.isna().sum()"
   ]
  },
  {
   "cell_type": "code",
   "execution_count": 18,
   "metadata": {},
   "outputs": [],
   "source": [
    "features_list = ['x1', 'y1', 'x2', 'y2', 'pass_type']\n",
    "X = xp_model[features_list]\n",
    "y = xp_model['label']"
   ]
  },
  {
   "cell_type": "code",
   "execution_count": 19,
   "metadata": {},
   "outputs": [
    {
     "name": "stdout",
     "output_type": "stream",
     "text": [
      "(328657, 6)\n",
      "(328657, 5)\n",
      "(328657,)\n"
     ]
    }
   ],
   "source": [
    "print(xp_model.shape)\n",
    "print(X.shape)\n",
    "print(y.shape)"
   ]
  },
  {
   "cell_type": "code",
   "execution_count": 20,
   "metadata": {},
   "outputs": [],
   "source": [
    "# split the data into a training and test set\n",
    "from sklearn.model_selection import train_test_split\n",
    "X_train, X_test, y_train, y_test = train_test_split(X, y, test_size=0.2, random_state=42)"
   ]
  },
  {
   "cell_type": "code",
   "execution_count": 21,
   "metadata": {},
   "outputs": [
    {
     "data": {
      "text/plain": [
       "array([[ 0.,  0.,  0., ..., 18., 41., 36.],\n",
       "       [ 0.,  0.,  0., ..., 17., 21.,  7.],\n",
       "       [ 0.,  0.,  0., ..., 39., 40., 44.],\n",
       "       ...,\n",
       "       [ 0.,  0.,  0., ..., 70., 47., 90.],\n",
       "       [ 0.,  0.,  0., ..., 31., 49., 53.],\n",
       "       [ 0.,  0.,  0., ..., 43., 47., 66.]])"
      ]
     },
     "execution_count": 21,
     "metadata": {},
     "output_type": "execute_result"
    }
   ],
   "source": [
    "# Encode categorical variable\n",
    "ohe = OneHotEncoder(sparse=False)\n",
    "column_trans = make_column_transformer(\n",
    "    (OneHotEncoder(), ['pass_type']),\n",
    "    remainder='passthrough')\n",
    "column_trans.fit_transform(X_train)"
   ]
  },
  {
   "cell_type": "markdown",
   "metadata": {},
   "source": [
    "# 3.1 Improved Logistic Regression vs Random Forest"
   ]
  },
  {
   "cell_type": "code",
   "execution_count": 22,
   "metadata": {},
   "outputs": [],
   "source": [
    "# instantiate the logistic regression model\n",
    "logreg = LogisticRegression(solver='lbfgs', max_iter=2000)\n",
    "pipe = make_pipeline(column_trans, logreg)"
   ]
  },
  {
   "cell_type": "code",
   "execution_count": 23,
   "metadata": {},
   "outputs": [
    {
     "data": {
      "text/plain": [
       "0.8408937910050394"
      ]
     },
     "execution_count": 23,
     "metadata": {},
     "output_type": "execute_result"
    }
   ],
   "source": [
    "# cross validate the model\n",
    "cross_val_score(pipe, X_train, y_train, cv=5, scoring='accuracy').mean()"
   ]
  },
  {
   "cell_type": "markdown",
   "metadata": {},
   "source": [
    "Better than the simple model. Now let's look at the accuracy of the Random Forest after adding more features."
   ]
  },
  {
   "cell_type": "code",
   "execution_count": 24,
   "metadata": {},
   "outputs": [
    {
     "data": {
      "text/plain": [
       "0.8595378910335647"
      ]
     },
     "execution_count": 24,
     "metadata": {},
     "output_type": "execute_result"
    }
   ],
   "source": [
    "# now for the Random Forest\n",
    "clf = RandomForestClassifier(n_jobs=2, random_state=0)\n",
    "pipe = make_pipeline(column_trans, clf)\n",
    "\n",
    "# use 5-fold cv to evaluate the performance\n",
    "cross_val_score(pipe, X_train, y_train, cv=5, scoring='accuracy').mean()"
   ]
  },
  {
   "cell_type": "markdown",
   "metadata": {},
   "source": [
    "So the Random Forest gives better accuracy. Next, we could do Randomised Grid Search to pick the optimum hyperparameters for the model."
   ]
  },
  {
   "cell_type": "markdown",
   "metadata": {},
   "source": [
    "# 4. Evaluate The Final Model On Out Of Sample Data"
   ]
  },
  {
   "cell_type": "code",
   "execution_count": 25,
   "metadata": {},
   "outputs": [
    {
     "name": "stdout",
     "output_type": "stream",
     "text": [
      "Accuracy: 0.858896732185237\n",
      "Recall: 0.9487608471834094\n",
      "Precision: 0.8883170089339507\n"
     ]
    }
   ],
   "source": [
    "# fit the data and make predictions\n",
    "pipe.fit(X_train, y_train)\n",
    "y_pred_class = pipe.predict(X_test)\n",
    "\n",
    "print(\"Accuracy:\", metrics.accuracy_score(y_test, y_pred_class))\n",
    "print(\"Recall:\", metrics.recall_score(y_test, y_pred_class))\n",
    "print(\"Precision:\", metrics.precision_score(y_test, y_pred_class))\n",
    "print(\"AUC:\", metrics.roc_auc_score(y_test, y_pred_prob))"
   ]
  },
  {
   "cell_type": "code",
   "execution_count": 28,
   "metadata": {},
   "outputs": [
    {
     "data": {
      "image/png": "[encoded data removed]",
      "text/plain": [
       "<Figure size 432x288 with 1 Axes>"
      ]
     },
     "metadata": {
      "needs_background": "light"
     },
     "output_type": "display_data"
    }
   ],
   "source": [
    "y_pred_prob = pipe.predict_proba(X_test)[:, 1]\n",
    "fpr, tpr, thresholds = metrics.roc_curve(y_test, y_pred_prob)\n",
    "plt.plot(fpr, tpr)\n",
    "plt.xlim([0.0, 1.0])\n",
    "plt.ylim([0.0, 1.0])\n",
    "plt.title('ROC curve for improved passing model')\n",
    "plt.xlabel('False Positive Rate (1 - Specificity)')\n",
    "plt.ylabel('True Positive Rate (Sensitivity)')\n",
    "plt.grid(True)"
   ]
  },
  {
   "cell_type": "code",
   "execution_count": 27,
   "metadata": {},
   "outputs": [
    {
     "name": "stdout",
     "output_type": "stream",
     "text": [
      "AUC: 0.8346523484688717\n"
     ]
    }
   ],
   "source": [
    "# get the AUC value\n",
    "print(\"AUC:\", metrics.roc_auc_score(y_test, y_pred_prob))"
   ]
  }
 ],
 "metadata": {
  "kernelspec": {
   "display_name": "Python 3",
   "language": "python",
   "name": "python3"
  },
  "language_info": {
   "codemirror_mode": {
    "name": "ipython",
    "version": 3
   },
   "file_extension": ".py",
   "mimetype": "text/x-python",
   "name": "python",
   "nbconvert_exporter": "python",
   "pygments_lexer": "ipython3",
   "version": "3.7.6"
  }
 },
 "nbformat": 4,
 "nbformat_minor": 4
}
